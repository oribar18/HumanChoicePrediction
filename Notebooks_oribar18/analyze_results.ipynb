{
 "cells": [
  {
   "cell_type": "code",
   "execution_count": 328,
   "id": "6d796479-916b-464c-9c7b-448306d9e7e9",
   "metadata": {
    "ExecuteTime": {
     "end_time": "2024-04-11T08:41:25.086551Z",
     "start_time": "2024-04-11T08:41:14.896715Z"
    }
   },
   "outputs": [],
   "source": [
    "import pandas as pd \n",
    "import wandb\n",
    "from tqdm import tqdm\n",
    "import requests\n",
    "import os\n",
    "import numpy as np\n",
    "import matplotlib.pyplot as plt\n",
    "import sklearn\n",
    "from sklearn import metrics\n",
    "import matplotlib.pyplot as plt\n",
    "import scipy.stats as stats\n",
    "import matplotlib.colors as mcolors\n",
    "import re\n",
    "import seaborn as sns"
   ]
  },
  {
   "cell_type": "code",
   "execution_count": 329,
   "id": "a9b533fe-a6ba-45c9-8bac-5da5e1414208",
   "metadata": {
    "ExecuteTime": {
     "end_time": "2024-04-11T08:41:41.493512Z",
     "start_time": "2024-04-11T08:41:41.387480Z"
    }
   },
   "outputs": [],
   "source": [
    "from read_wandb import wandb_results\n",
    "api = wandb_results(\"NLP2024_PROJECT_oribar18\", wandb_username=\"oribar18\")\n",
    "\n",
    "BASE_METRIC = \"accuracy_per_mean_user_and_bot\""
   ]
  },
  {
   "cell_type": "code",
   "execution_count": 330,
   "id": "13426a4f1b5c7bde",
   "metadata": {
    "ExecuteTime": {
     "end_time": "2024-04-11T08:41:59.815601Z",
     "start_time": "2024-04-11T08:41:59.802623Z"
    },
    "collapsed": false,
    "jupyter": {
     "outputs_hidden": false
    }
   },
   "outputs": [],
   "source": [
    "def result_metric(sweeps, group_name, drop_list=[0], drop_HPT=True, metric=BASE_METRIC, epoch=\"best\"):\n",
    "    df = api.get_sweeps_results(sweeps, metric=metric)\n",
    "    df = df.iloc[:, :-40]\n",
    "\n",
    "    config_cols = [c for c in df.columns if \"config_\" in c and c!=\"config_wandb_run_id\" and c!=\"config_online_simulation_size\"]\n",
    "    HPT_cols = ['config_threshold_adjustment']\n",
    "    print(HPT_cols)\n",
    "    if drop_HPT:\n",
    "        df=df.drop([c for c in HPT_cols if not c in [\"config_LLM_SIM_SIZE\", \"config_seed\"]], axis=1)\n",
    "        HPT_cols = [\"config_LLM_SIM_SIZE\", \"config_seed\"]\n",
    "\n",
    "    # Remove non-numeric columns before computing mean and std\n",
    "    numeric_cols = df.select_dtypes(include=np.number).columns\n",
    "    df_numeric = df[numeric_cols]\n",
    "\n",
    "    grouped = df_numeric.groupby([c for c in HPT_cols if c != \"config_seed\"])\n",
    "    mean_df = grouped.mean()\n",
    "    std_df = grouped.std()\n",
    "    \n",
    "    # Re-add non-numeric columns before computing best_col\n",
    "    for col in config_cols:\n",
    "        if col not in mean_df.columns:\n",
    "            mean_df[col] = df[col]\n",
    "\n",
    "    if epoch==\"best\":\n",
    "        best_col = mean_df[[c for c in mean_df.columns if (metric in c and metric[-4:] == c.split(\"_epoch\")[0][-4:])]].idxmax(axis=1)\n",
    "    else:\n",
    "        best_col = mean_df[[c for c in mean_df.columns if f\"{metric}_epoch{epoch}\" in c]].idxmax(axis=1)\n",
    "\n",
    "    result = grouped.apply(lambda x: x[best_col.loc[x.name]].values)\n",
    "    means = grouped.apply(lambda x: x[best_col.loc[x.name]].mean())\n",
    "    stds = grouped.apply(lambda x: x[best_col.loc[x.name]].std())\n",
    "\n",
    "\n",
    "    df_cols = {'mean': means, 'std': stds, 'values': result.values}\n",
    "    if epoch == \"best\": df_cols['epoch'] = best_col.apply(lambda x: int(x.split(\"epoch\")[1]) if \"epoch\" in x else \"last\")\n",
    "\n",
    "    df_cols['CI'] = result.apply(lambda x: bootstrap_ci(x))\n",
    "\n",
    "    summary_df = pd.DataFrame(df_cols, index=best_col.index)\n",
    "    for d in drop_list:\n",
    "        if d in summary_df.index:\n",
    "            summary_df=summary_df.drop(d)\n",
    "    if len(summary_df.index.names) == 1:\n",
    "        return summary_df.rename_axis(group_name)\n",
    "    else:\n",
    "        return summary_df\n",
    "\n",
    "def bootstrap_ci(data, n_bootstrap=1000, ci=0.95):\n",
    "    bootstrapped_means = []\n",
    "    for _ in range(n_bootstrap):\n",
    "        sample = np.random.choice(data, size=len(data), replace=True)\n",
    "        bootstrapped_means.append(np.mean(sample))\n",
    "    lower_bound = np.percentile(bootstrapped_means, (1 - ci) / 2 * 100)\n",
    "    upper_bound = np.percentile(bootstrapped_means, (1 + ci) / 2 * 100)\n",
    "    return lower_bound, upper_bound\n"
   ]
  },
  {
   "cell_type": "markdown",
   "id": "53a0ba0c-108c-43f5-8232-8b548c844b31",
   "metadata": {},
   "source": [
    "# For HyperParameterTuning"
   ]
  },
  {
   "cell_type": "markdown",
   "id": "dbe8fe89-e9e6-45f2-a2c0-e79a80e455ae",
   "metadata": {},
   "source": [
    "For every configuration that you test in the sweep, you will receive in the table the average, standard deviation, all the values obtained for the different seed values, and also the confidence interval within which the result is located at a confidence level of 95%.\n",
    "\n",
    "When epoch=\"best\" is defined, you can check in which epoch the best result is obtained. If epoch=5 is defined, you will receive the result obtained for epoch number 5.\n",
    "\n",
    "You can test multiple sweeps simultaneously by entering them into the list found in the first element of the function result_metric."
   ]
  },
  {
   "cell_type": "code",
   "execution_count": 331,
   "id": "9dd9321f-5c94-4f0c-8052-b50bd8bd3f4e",
   "metadata": {
    "ExecuteTime": {
     "end_time": "2024-04-11T08:43:41.601652Z",
     "start_time": "2024-04-11T08:43:40.341107Z"
    }
   },
   "outputs": [
    {
     "name": "stdout",
     "output_type": "stream",
     "text": [
      "Total number of sweeps: 6\n",
      "Download sweep_id='ppglbjo6' data...\n",
      "Download sweep_id='v2r413kh' data...\n",
      "Download sweep_id='zgk3tgnf' data...\n",
      "Download sweep_id='5w7xx7qt' data...\n",
      "Download sweep_id='tp2qakxf' data...\n",
      "Download sweep_id='zcq9szvv' data...\n",
      "['config_threshold_adjustment']\n"
     ]
    },
    {
     "name": "stderr",
     "output_type": "stream",
     "text": [
      "C:\\Users\\oriba\\AppData\\Local\\Temp\\ipykernel_10676\\4075747387.py:30: DeprecationWarning: DataFrameGroupBy.apply operated on the grouping columns. This behavior is deprecated, and in a future version of pandas the grouping columns will be excluded from the operation. Either pass `include_groups=False` to exclude the groupings or explicitly select the grouping columns after groupby to silence this warning.\n",
      "  result = grouped.apply(lambda x: x[best_col.loc[x.name]].values)\n",
      "C:\\Users\\oriba\\AppData\\Local\\Temp\\ipykernel_10676\\4075747387.py:31: DeprecationWarning: DataFrameGroupBy.apply operated on the grouping columns. This behavior is deprecated, and in a future version of pandas the grouping columns will be excluded from the operation. Either pass `include_groups=False` to exclude the groupings or explicitly select the grouping columns after groupby to silence this warning.\n",
      "  means = grouped.apply(lambda x: x[best_col.loc[x.name]].mean())\n",
      "C:\\Users\\oriba\\AppData\\Local\\Temp\\ipykernel_10676\\4075747387.py:32: DeprecationWarning: DataFrameGroupBy.apply operated on the grouping columns. This behavior is deprecated, and in a future version of pandas the grouping columns will be excluded from the operation. Either pass `include_groups=False` to exclude the groupings or explicitly select the grouping columns after groupby to silence this warning.\n",
      "  stds = grouped.apply(lambda x: x[best_col.loc[x.name]].std())\n"
     ]
    },
    {
     "data": {
      "text/html": [
       "<div>\n",
       "<style scoped>\n",
       "    .dataframe tbody tr th:only-of-type {\n",
       "        vertical-align: middle;\n",
       "    }\n",
       "\n",
       "    .dataframe tbody tr th {\n",
       "        vertical-align: top;\n",
       "    }\n",
       "\n",
       "    .dataframe thead th {\n",
       "        text-align: right;\n",
       "    }\n",
       "</style>\n",
       "<table border=\"1\" class=\"dataframe\">\n",
       "  <thead>\n",
       "    <tr style=\"text-align: right;\">\n",
       "      <th></th>\n",
       "      <th>mean</th>\n",
       "      <th>std</th>\n",
       "      <th>values</th>\n",
       "      <th>epoch</th>\n",
       "      <th>CI</th>\n",
       "    </tr>\n",
       "    <tr>\n",
       "      <th>threshold_adjustment</th>\n",
       "      <th></th>\n",
       "      <th></th>\n",
       "      <th></th>\n",
       "      <th></th>\n",
       "      <th></th>\n",
       "    </tr>\n",
       "  </thead>\n",
       "  <tbody>\n",
       "    <tr>\n",
       "      <th>0.01</th>\n",
       "      <td>0.827410</td>\n",
       "      <td>0.001354</td>\n",
       "      <td>[0.8268966008713108, 0.8263875068487594, 0.828...</td>\n",
       "      <td>6</td>\n",
       "      <td>(0.8263875068487594, 0.8289452001568377)</td>\n",
       "    </tr>\n",
       "    <tr>\n",
       "      <th>0.03</th>\n",
       "      <td>0.827062</td>\n",
       "      <td>0.002390</td>\n",
       "      <td>[0.8298089779951844, 0.8259198275923579, 0.825...</td>\n",
       "      <td>8</td>\n",
       "      <td>(0.8254585964225357, 0.8298089779951844)</td>\n",
       "    </tr>\n",
       "  </tbody>\n",
       "</table>\n",
       "</div>"
      ],
      "text/plain": [
       "                          mean       std  \\\n",
       "threshold_adjustment                       \n",
       "0.01                  0.827410  0.001354   \n",
       "0.03                  0.827062  0.002390   \n",
       "\n",
       "                                                                 values  \\\n",
       "threshold_adjustment                                                      \n",
       "0.01                  [0.8268966008713108, 0.8263875068487594, 0.828...   \n",
       "0.03                  [0.8298089779951844, 0.8259198275923579, 0.825...   \n",
       "\n",
       "                      epoch                                        CI  \n",
       "threshold_adjustment                                                   \n",
       "0.01                      6  (0.8263875068487594, 0.8289452001568377)  \n",
       "0.03                      8  (0.8254585964225357, 0.8298089779951844)  "
      ]
     },
     "execution_count": 331,
     "metadata": {},
     "output_type": "execute_result"
    }
   ],
   "source": [
    "# Create the directory if it doesn't exist\n",
    "directory = 'sweeps_csvs'\n",
    "if not os.path.exists(directory):\n",
    "    os.makedirs(directory)\n",
    "sweep_results = result_metric([\"ppglbjo6\", \"v2r413kh\", \"zgk3tgnf\", \"5w7xx7qt\", \"tp2qakxf\", \"zcq9szvv\"],'threshold_adjustment', drop_HPT=False, epoch='best')\n",
    "sweep_results"
   ]
  },
  {
   "cell_type": "markdown",
   "id": "69283925-ac66-41d6-aa51-cb826c5c51aa",
   "metadata": {},
   "source": [
    "# Line chart value vs epoch"
   ]
  },
  {
   "cell_type": "code",
   "execution_count": 332,
   "id": "6136fda0-f408-448d-aaaf-e34a2b342706",
   "metadata": {},
   "outputs": [
    {
     "data": {
      "image/png": "[encoded data removed]",
      "text/plain": [
       "<Figure size 1000x500 with 1 Axes>"
      ]
     },
     "metadata": {},
     "output_type": "display_data"
    },
    {
     "name": "stdout",
     "output_type": "stream",
     "text": [
      "Max value for Accuracy: 0.829 at epoch 7\n",
      "Max value for Proba Accuracy: 0.762 at epoch 3\n"
     ]
    }
   ],
   "source": [
    "# Initialize the W&B API\n",
    "api = wandb.Api()\n",
    "\n",
    "# Fetch the specific run\n",
    "run = api.run(\"oribar18/NLP2024_PROJECT_oribar18/dwmafrr2\")\n",
    "\n",
    "# Get the summary metrics\n",
    "metrics = run.summary\n",
    "\n",
    "# Filter and organize metrics that contain \"ENV_Test_accuracy_per_mean_user_and_bot_epoch\" and \"ENV_Test_proba_accuracy_per_mean_user_and_bot_epoch\"\n",
    "pattern_accuracy = re.compile(r\"ENV_Test_accuracy_per_mean_user_and_bot_epoch(\\d+)\")\n",
    "pattern_proba = re.compile(r\"ENV_Test_proba_accuracy_per_mean_user_and_bot_epoch(\\d+)\")\n",
    "data = []\n",
    "\n",
    "for key, value in metrics.items():\n",
    "    match_accuracy = pattern_accuracy.match(key)\n",
    "    match_proba = pattern_proba.match(key)\n",
    "    if match_accuracy:\n",
    "        epoch = int(match_accuracy.group(1))\n",
    "        data.append((epoch, 'Accuracy', value))\n",
    "    elif match_proba:\n",
    "        epoch = int(match_proba.group(1))\n",
    "        data.append((epoch, 'Proba Accuracy', value))\n",
    "\n",
    "# Create a DataFrame from the data\n",
    "df = pd.DataFrame(data, columns=[\"epoch\", \"type\", \"value\"])\n",
    "\n",
    "# Plot the data using seaborn\n",
    "plt.figure(figsize=(10, 5))\n",
    "sns.lineplot(data=df, x=\"epoch\", y=\"value\", hue=\"type\", marker='o')\n",
    "plt.xlabel(\"Epoch\")\n",
    "plt.ylabel(\"Value\")\n",
    "plt.title(\"Test Metrics Over Epochs\")\n",
    "plt.grid(True)\n",
    "plt.legend(title=\"Metric Type\")\n",
    "plt.show()\n",
    "\n",
    "# Find and print the max value for each type\n",
    "for metric_type in df['type'].unique():\n",
    "    filtered_df = df[df['type'] == metric_type]\n",
    "    max_row = filtered_df.loc[filtered_df['value'].idxmax()]\n",
    "    print(f\"Max value for {metric_type}: {max_row['value']:.03} at epoch {max_row['epoch']+1}\")"
   ]
  },
  {
   "cell_type": "code",
   "execution_count": null,
   "id": "1cfcc8e4-6aa8-4010-8c7b-31f25db41efa",
   "metadata": {},
   "outputs": [],
   "source": []
  }
 ],
 "metadata": {
  "kernelspec": {
   "display_name": "Python 3 (ipykernel)",
   "language": "python",
   "name": "python3"
  },
  "language_info": {
   "codemirror_mode": {
    "name": "ipython",
    "version": 3
   },
   "file_extension": ".py",
   "mimetype": "text/x-python",
   "name": "python",
   "nbconvert_exporter": "python",
   "pygments_lexer": "ipython3",
   "version": "3.9.9"
  }
 },
 "nbformat": 4,
 "nbformat_minor": 5
}